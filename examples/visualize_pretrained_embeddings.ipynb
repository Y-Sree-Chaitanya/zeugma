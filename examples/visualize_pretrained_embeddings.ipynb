{
 "cells": [
  {
   "cell_type": "markdown",
   "metadata": {},
   "source": [
    "# Example notebook 1: visualize word embeddings"
   ]
  },
  {
   "cell_type": "code",
   "execution_count": 1,
   "metadata": {},
   "outputs": [
    {
     "name": "stderr",
     "output_type": "stream",
     "text": [
      "Using TensorFlow backend.\n"
     ]
    }
   ],
   "source": [
    "import os\n",
    "from zeugma import EmbeddingTransformer\n",
    " \n",
    "embedding_transformer = EmbeddingTransformer()"
   ]
  },
  {
   "cell_type": "markdown",
   "metadata": {},
   "source": [
    "## Create the embeddings matrix for the words present in a given corpus"
   ]
  },
  {
   "cell_type": "code",
   "execution_count": 2,
   "metadata": {},
   "outputs": [],
   "source": [
    "from zeugma import TextsToSequences\n",
    "\n",
    "# Define a corpus to get a list of relevant words\n",
    "corpus = ['developer', 'programmer']\n",
    "\n",
    "tts = TextsToSequences()\n",
    "tts.fit(corpus)\n",
    "word_index = tts.word_index\n",
    "\n",
    "def create_embedding_matrix(word_index, embedding_transformer):\n",
    "    \"\"\" Prepare the embedding matrix \"\"\"\n",
    "    embedding_dim = embedding_transformer.transform(['the']).shape[1]\n",
    "    embedding_matrix = np.zeros((len(word_index)+1, embedding_dim))\n",
    "    for word, i in word_index.items():\n",
    "        embedding_matrix[i] = embedding_transformer.transform([word])[0]\n",
    "    return embedding_matrix\n",
    "\n",
    "embedding_matrix = create_embedding_matrix(word_index, embedding_transformer)"
   ]
  },
  {
   "cell_type": "markdown",
   "metadata": {},
   "source": [
    "## Setup tensorboard configuration"
   ]
  },
  {
   "cell_type": "code",
   "execution_count": 3,
   "metadata": {},
   "outputs": [
    {
     "name": "stdout",
     "output_type": "stream",
     "text": [
      "WARNING:tensorflow:Saver is deprecated, please switch to tf.train.Checkpoint or tf.keras.Model.save_weights for training checkpoints. When executing eagerly variables do not necessarily have unique names, and so the variable.name-based lookups Saver performs are error-prone.\n"
     ]
    }
   ],
   "source": [
    "import tensorflow as tf\n",
    "from tensorboard.plugins import projector\n",
    "\n",
    "# Create the log directory\n",
    "LOG_DIR = os.path.join(os.environ['PWD'], 'logs')\n",
    "if not os.path.exists(LOG_DIR):\n",
    "    os.mkdir(LOG_DIR)\n",
    "\n",
    "# Write word names in a file for tensorboard display\n",
    "with open(os.path.join(LOG_DIR, 'metadata.tsv'), 'w') as f:\n",
    "    f.write('Word\\n' + '\\n'.join(word_index.keys()))\n",
    "    \n",
    "# Create a tensorflow variable from embedding matrix\n",
    "embedding_var = tf.Variable(embedding_matrix)\n",
    "\n",
    "# Save embeddings in model.ckpt\n",
    "saver = tf.compat.v1.train.Saver([embedding_var])\n",
    "saver.save(None, os.path.join(\"logs\", \"model.ckpt\"))\n",
    "\n",
    "# Add metadata (i.e. words here) to the embeddings points\n",
    "config = projector.ProjectorConfig()\n",
    "embedding = config.embeddings.add()\n",
    "embedding.tensor_name = embedding_var.name\n",
    "embedding.metadata_path = os.path.join(LOG_DIR, 'metadata.tsv')\n",
    "\n",
    "projector.visualize_embeddings(LOG_DIR, config)"
   ]
  },
  {
   "cell_type": "markdown",
   "metadata": {},
   "source": [
    "# Embed Tensorboar in the notebook"
   ]
  },
  {
   "cell_type": "code",
   "execution_count": 6,
   "metadata": {},
   "outputs": [
    {
     "name": "stdout",
     "output_type": "stream",
     "text": [
      "The tensorboard extension is already loaded. To reload it, use:\n",
      "  %reload_ext tensorboard\n"
     ]
    },
    {
     "data": {
      "text/html": [
       "\n",
       "      <iframe id=\"tensorboard-frame-78b50c11d11abde9\" width=\"100%\" height=\"800\" frameborder=\"0\">\n",
       "      </iframe>\n",
       "      <script>\n",
       "        (function() {\n",
       "          const frame = document.getElementById(\"tensorboard-frame-78b50c11d11abde9\");\n",
       "          const url = new URL(\"/\", window.location);\n",
       "          url.port = 6007;\n",
       "          frame.src = url;\n",
       "        })();\n",
       "      </script>\n",
       "  "
      ],
      "text/plain": [
       "<IPython.core.display.HTML object>"
      ]
     },
     "metadata": {},
     "output_type": "display_data"
    }
   ],
   "source": [
    "%load_ext tensorboard\n",
    "%tensorboard --logdir logs"
   ]
  },
  {
   "cell_type": "markdown",
   "metadata": {},
   "source": [
    "## Run tensorboard locally"
   ]
  },
  {
   "cell_type": "code",
   "execution_count": 4,
   "metadata": {},
   "outputs": [
    {
     "name": "stdout",
     "output_type": "stream",
     "text": [
      "TensorBoard 2.0.1 at http://127.0.0.1:6006/ (Press CTRL+C to quit)\n",
      "^C\n"
     ]
    }
   ],
   "source": [
    "# Run tensorboard to visualize the embeddings in your\n",
    "# browser on port 6006: http://localhost:6006\n",
    "# Navigate to the 'Projector' tab to visualize the embeddings\n",
    "!tensorboard --logdir logs/ --host 127.0.0.1"
   ]
  }
 ],
 "metadata": {
  "kernelspec": {
   "display_name": "Python 3",
   "language": "python",
   "name": "python3"
  },
  "language_info": {
   "codemirror_mode": {
    "name": "ipython",
    "version": 3
   },
   "file_extension": ".py",
   "mimetype": "text/x-python",
   "name": "python",
   "nbconvert_exporter": "python",
   "pygments_lexer": "ipython3",
   "version": "3.7.4"
  }
 },
 "nbformat": 4,
 "nbformat_minor": 2
}
